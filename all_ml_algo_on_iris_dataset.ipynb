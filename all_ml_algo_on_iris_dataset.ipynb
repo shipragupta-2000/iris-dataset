{
  "nbformat": 4,
  "nbformat_minor": 0,
  "metadata": {
    "colab": {
      "name": "all ml algo on iris dataset",
      "provenance": [],
      "collapsed_sections": [],
      "authorship_tag": "ABX9TyNaU+gegXcPGYW2LY85dwLy",
      "include_colab_link": true
    },
    "kernelspec": {
      "name": "python3",
      "display_name": "Python 3"
    }
  },
  "cells": [
    {
      "cell_type": "markdown",
      "metadata": {
        "id": "view-in-github",
        "colab_type": "text"
      },
      "source": [
        "<a href=\"https://colab.research.google.com/github/shipragupta-2000/same/blob/master/all_ml_algo_on_iris_dataset.ipynb\" target=\"_parent\"><img src=\"https://colab.research.google.com/assets/colab-badge.svg\" alt=\"Open In Colab\"/></a>"
      ]
    },
    {
      "cell_type": "code",
      "metadata": {
        "id": "x69qhVql6eM5",
        "colab_type": "code",
        "outputId": "a3d0f24f-0f3a-4a2f-bd44-f1ebb76bba0c",
        "colab": {
          "base_uri": "https://localhost:8080/",
          "height": 34
        }
      },
      "source": [
        "import sklearn as sk\n",
        "import pandas as pd\n",
        "import numpy as np\n",
        "from sklearn.tree import DecisionTreeClassifier\n",
        "dataset=pd.read_csv(\"/content/iris.csv\")\n",
        "clf=DecisionTreeClassifier()\n",
        "print(dataset.shape)"
      ],
      "execution_count": 0,
      "outputs": [
        {
          "output_type": "stream",
          "text": [
            "(150, 5)\n"
          ],
          "name": "stdout"
        }
      ]
    },
    {
      "cell_type": "markdown",
      "metadata": {
        "id": "okasSwqkFPtM",
        "colab_type": "text"
      },
      "source": [
        "splitting data to x and y\n"
      ]
    },
    {
      "cell_type": "code",
      "metadata": {
        "id": "gr8o3BBo3jgq",
        "colab_type": "code",
        "colab": {}
      },
      "source": [
        "x=dataset.iloc[:,0:4].values\n",
        "y=dataset.iloc[:,4].values"
      ],
      "execution_count": 0,
      "outputs": []
    },
    {
      "cell_type": "markdown",
      "metadata": {
        "id": "__wWrm_kSc3q",
        "colab_type": "text"
      },
      "source": [
        "preprocessing y to convert class to 0 and 1"
      ]
    },
    {
      "cell_type": "code",
      "metadata": {
        "id": "ADcOtZmLSa9j",
        "colab_type": "code",
        "colab": {}
      },
      "source": [
        "from sklearn.preprocessing import LabelEncoder\n",
        "y=LabelEncoder().fit_transform(y)"
      ],
      "execution_count": 0,
      "outputs": []
    },
    {
      "cell_type": "code",
      "metadata": {
        "id": "PMQmmUg9GXgj",
        "colab_type": "code",
        "colab": {}
      },
      "source": [
        "from sklearn.model_selection import train_test_split\n",
        "x_train,x_test,y_train,y_test=train_test_split(x,y,test_size=0.4)"
      ],
      "execution_count": 0,
      "outputs": []
    },
    {
      "cell_type": "markdown",
      "metadata": {
        "id": "Bf47qtsdT-Fs",
        "colab_type": "text"
      },
      "source": [
        "training model using variou algo\n",
        "\n",
        "1.   Logistic Regression\n",
        "\n"
      ]
    },
    {
      "cell_type": "code",
      "metadata": {
        "id": "3hWD_IO8RDcW",
        "colab_type": "code",
        "outputId": "3cd3655b-bfd5-4afc-c81f-461b65641576",
        "colab": {
          "base_uri": "https://localhost:8080/",
          "height": 90
        }
      },
      "source": [
        "from sklearn.linear_model import LogisticRegression \n",
        "logmodel=LogisticRegression()\n",
        "logmodel.fit(x_train,y_train)\n",
        "y_pred=logmodel.predict(x_test)\n",
        "count=0\n",
        "for i in range(0,y_pred.shape[0]):\n",
        "  if y_pred[i]==y_test[i]:\n",
        "    count=count+1\n",
        "accuracy=(count/y_pred.shape[0])*100\n",
        "print(accuracy)\n",
        "from sklearn.metrics import confusion_matrix\n",
        "confusion_matrix(y_test,y_pred)"
      ],
      "execution_count": 0,
      "outputs": [
        {
          "output_type": "stream",
          "text": [
            "95.0\n"
          ],
          "name": "stdout"
        },
        {
          "output_type": "execute_result",
          "data": {
            "text/plain": [
              "array([[20,  0,  0],\n",
              "       [ 0, 15,  1],\n",
              "       [ 0,  2, 22]])"
            ]
          },
          "metadata": {
            "tags": []
          },
          "execution_count": 22
        }
      ]
    },
    {
      "cell_type": "markdown",
      "metadata": {
        "id": "G81xClnHdwkY",
        "colab_type": "text"
      },
      "source": [
        "2.   K-Nearest Neighbour\n",
        "\n"
      ]
    },
    {
      "cell_type": "code",
      "metadata": {
        "id": "5DlTmfp2Zw9I",
        "colab_type": "code",
        "outputId": "49e71b8d-ca98-411b-d81a-f101bd2952a6",
        "colab": {
          "base_uri": "https://localhost:8080/",
          "height": 72
        }
      },
      "source": [
        "from sklearn.neighbors import KNeighborsClassifier\n",
        "knn=KNeighborsClassifier(n_neighbors=5,metric='minkowski',p=2)\n",
        "knn.fit(x_train,y_train)"
      ],
      "execution_count": 0,
      "outputs": [
        {
          "output_type": "execute_result",
          "data": {
            "text/plain": [
              "KNeighborsClassifier(algorithm='auto', leaf_size=30, metric='minkowski',\n",
              "                     metric_params=None, n_jobs=None, n_neighbors=5, p=2,\n",
              "                     weights='uniform')"
            ]
          },
          "metadata": {
            "tags": []
          },
          "execution_count": 23
        }
      ]
    },
    {
      "cell_type": "code",
      "metadata": {
        "id": "ocles7anNQ7r",
        "colab_type": "code",
        "outputId": "b9e7574c-b757-47c4-b72d-fc23a2115f8c",
        "colab": {
          "base_uri": "https://localhost:8080/",
          "height": 90
        }
      },
      "source": [
        "y_pred=knn.predict(x_test)\n",
        "count=0\n",
        "for i in range(0,y_pred.shape[0]):\n",
        "  if y_pred[i]==y_test[i]:\n",
        "    count=count+1\n",
        "accuracy=(count/y_pred.shape[0])*100\n",
        "print(accuracy)\n",
        "from sklearn.metrics import confusion_matrix\n",
        "confusion_matrix(y_test,y_pred)"
      ],
      "execution_count": 0,
      "outputs": [
        {
          "output_type": "stream",
          "text": [
            "96.66666666666667\n"
          ],
          "name": "stdout"
        },
        {
          "output_type": "execute_result",
          "data": {
            "text/plain": [
              "array([[20,  0,  0],\n",
              "       [ 0, 15,  1],\n",
              "       [ 0,  1, 23]])"
            ]
          },
          "metadata": {
            "tags": []
          },
          "execution_count": 37
        }
      ]
    },
    {
      "cell_type": "markdown",
      "metadata": {
        "id": "cyDHfP2MPmiE",
        "colab_type": "text"
      },
      "source": [
        "3.   Naive Bayes\n",
        "\n"
      ]
    },
    {
      "cell_type": "code",
      "metadata": {
        "id": "1-wNIPqUN3TK",
        "colab_type": "code",
        "outputId": "4f6a0288-291b-4a9e-b00d-7b08b73c428d",
        "colab": {
          "base_uri": "https://localhost:8080/",
          "height": 35
        }
      },
      "source": [
        "from sklearn.naive_bayes import GaussianNB\n",
        "naive= GaussianNB()\n",
        "naive.fit(x_train,y_train)"
      ],
      "execution_count": 0,
      "outputs": [
        {
          "output_type": "execute_result",
          "data": {
            "text/plain": [
              "GaussianNB(priors=None, var_smoothing=1e-09)"
            ]
          },
          "metadata": {
            "tags": []
          },
          "execution_count": 25
        }
      ]
    },
    {
      "cell_type": "code",
      "metadata": {
        "id": "hMe5dIMBQHUR",
        "colab_type": "code",
        "outputId": "11b536f7-8d4e-4688-b497-be7a7084bb12",
        "colab": {
          "base_uri": "https://localhost:8080/",
          "height": 90
        }
      },
      "source": [
        "y_pred=naive.predict(x_test)\n",
        "count=0\n",
        "for i in range(0,y_pred.shape[0]):\n",
        "  if y_pred[i]==y_test[i]:\n",
        "    count=count+1\n",
        "accuracy=(count/y_pred.shape[0])*100\n",
        "print(accuracy)\n",
        "from sklearn.metrics import confusion_matrix\n",
        "confusion_matrix(y_test,y_pred)"
      ],
      "execution_count": 0,
      "outputs": [
        {
          "output_type": "stream",
          "text": [
            "96.66666666666667\n"
          ],
          "name": "stdout"
        },
        {
          "output_type": "execute_result",
          "data": {
            "text/plain": [
              "array([[20,  0,  0],\n",
              "       [ 0, 16,  0],\n",
              "       [ 0,  2, 22]])"
            ]
          },
          "metadata": {
            "tags": []
          },
          "execution_count": 26
        }
      ]
    },
    {
      "cell_type": "markdown",
      "metadata": {
        "id": "bXUgqO3aSYks",
        "colab_type": "text"
      },
      "source": [
        "4.   SVM\n",
        "\n"
      ]
    },
    {
      "cell_type": "code",
      "metadata": {
        "id": "09aDhjWAQOpS",
        "colab_type": "code",
        "outputId": "ef0babb8-1031-4c03-cfb7-a78bde463402",
        "colab": {
          "base_uri": "https://localhost:8080/",
          "height": 90
        }
      },
      "source": [
        "from sklearn.svm import SVC\n",
        "sig=SVC(kernel='sigmoid')\n",
        "sig.fit(x_train,y_train)"
      ],
      "execution_count": 0,
      "outputs": [
        {
          "output_type": "execute_result",
          "data": {
            "text/plain": [
              "SVC(C=1.0, break_ties=False, cache_size=200, class_weight=None, coef0=0.0,\n",
              "    decision_function_shape='ovr', degree=3, gamma='scale', kernel='sigmoid',\n",
              "    max_iter=-1, probability=False, random_state=None, shrinking=True,\n",
              "    tol=0.001, verbose=False)"
            ]
          },
          "metadata": {
            "tags": []
          },
          "execution_count": 27
        }
      ]
    },
    {
      "cell_type": "code",
      "metadata": {
        "id": "ROrJjfUoS3pv",
        "colab_type": "code",
        "outputId": "3075000a-0e82-4541-bc14-a871e7315172",
        "colab": {
          "base_uri": "https://localhost:8080/",
          "height": 90
        }
      },
      "source": [
        "y_pred=sig.predict(x_test)\n",
        "count=0\n",
        "for i in range(0,y_pred.shape[0]):\n",
        "  if y_pred[i]==y_test[i]:\n",
        "    count=count+1\n",
        "accuracy=(count/y_pred.shape[0])*100\n",
        "print(accuracy)\n",
        "from sklearn.metrics import confusion_matrix\n",
        "confusion_matrix(y_test,y_pred)"
      ],
      "execution_count": 0,
      "outputs": [
        {
          "output_type": "stream",
          "text": [
            "26.666666666666668\n"
          ],
          "name": "stdout"
        },
        {
          "output_type": "execute_result",
          "data": {
            "text/plain": [
              "array([[ 0, 20,  0],\n",
              "       [ 0, 16,  0],\n",
              "       [ 0, 24,  0]])"
            ]
          },
          "metadata": {
            "tags": []
          },
          "execution_count": 28
        }
      ]
    },
    {
      "cell_type": "code",
      "metadata": {
        "id": "_uxnY1GuS6ft",
        "colab_type": "code",
        "outputId": "4334f318-f2b2-41f2-a3a3-5cd93d6f3341",
        "colab": {
          "base_uri": "https://localhost:8080/",
          "height": 90
        }
      },
      "source": [
        "linear=SVC(kernel='linear')\n",
        "linear.fit(x_train,y_train)"
      ],
      "execution_count": 0,
      "outputs": [
        {
          "output_type": "execute_result",
          "data": {
            "text/plain": [
              "SVC(C=1.0, break_ties=False, cache_size=200, class_weight=None, coef0=0.0,\n",
              "    decision_function_shape='ovr', degree=3, gamma='scale', kernel='linear',\n",
              "    max_iter=-1, probability=False, random_state=None, shrinking=True,\n",
              "    tol=0.001, verbose=False)"
            ]
          },
          "metadata": {
            "tags": []
          },
          "execution_count": 29
        }
      ]
    },
    {
      "cell_type": "code",
      "metadata": {
        "id": "ox4RCHh6TTFf",
        "colab_type": "code",
        "outputId": "991c1e64-391e-4c9a-a370-9c6e0ba13c1f",
        "colab": {
          "base_uri": "https://localhost:8080/",
          "height": 90
        }
      },
      "source": [
        "y_pred=linear.predict(x_test)\n",
        "count=0\n",
        "for i in range(0,y_pred.shape[0]):\n",
        "  if y_pred[i]==y_test[i]:\n",
        "    count=count+1\n",
        "accuracy=(count/y_pred.shape[0])*100\n",
        "print(accuracy)\n",
        "from sklearn.metrics import confusion_matrix\n",
        "confusion_matrix(y_test,y_pred)"
      ],
      "execution_count": 0,
      "outputs": [
        {
          "output_type": "stream",
          "text": [
            "98.33333333333333\n"
          ],
          "name": "stdout"
        },
        {
          "output_type": "execute_result",
          "data": {
            "text/plain": [
              "array([[20,  0,  0],\n",
              "       [ 0, 15,  1],\n",
              "       [ 0,  0, 24]])"
            ]
          },
          "metadata": {
            "tags": []
          },
          "execution_count": 30
        }
      ]
    },
    {
      "cell_type": "code",
      "metadata": {
        "id": "lAdTAO0oTWUe",
        "colab_type": "code",
        "outputId": "9bbcc671-4796-4b9f-f718-c028db9a3aa8",
        "colab": {
          "base_uri": "https://localhost:8080/",
          "height": 90
        }
      },
      "source": [
        "rbf=SVC(kernel='rbf')\n",
        "rbf.fit(x_train,y_train)"
      ],
      "execution_count": 0,
      "outputs": [
        {
          "output_type": "execute_result",
          "data": {
            "text/plain": [
              "SVC(C=1.0, break_ties=False, cache_size=200, class_weight=None, coef0=0.0,\n",
              "    decision_function_shape='ovr', degree=3, gamma='scale', kernel='rbf',\n",
              "    max_iter=-1, probability=False, random_state=None, shrinking=True,\n",
              "    tol=0.001, verbose=False)"
            ]
          },
          "metadata": {
            "tags": []
          },
          "execution_count": 31
        }
      ]
    },
    {
      "cell_type": "code",
      "metadata": {
        "id": "RhOrlPUbaxs_",
        "colab_type": "code",
        "outputId": "db8298f0-aa5e-4902-df86-e1909cd71443",
        "colab": {
          "base_uri": "https://localhost:8080/",
          "height": 90
        }
      },
      "source": [
        "y_pred=rbf.predict(x_test)\n",
        "count=0\n",
        "for i in range(0,y_pred.shape[0]):\n",
        "  if y_pred[i]==y_test[i]:\n",
        "    count=count+1\n",
        "accuracy=(count/y_pred.shape[0])*100\n",
        "print(accuracy)\n",
        "from sklearn.metrics import confusion_matrix\n",
        "confusion_matrix(y_test,y_pred)"
      ],
      "execution_count": 0,
      "outputs": [
        {
          "output_type": "stream",
          "text": [
            "95.0\n"
          ],
          "name": "stdout"
        },
        {
          "output_type": "execute_result",
          "data": {
            "text/plain": [
              "array([[20,  0,  0],\n",
              "       [ 0, 15,  1],\n",
              "       [ 0,  2, 22]])"
            ]
          },
          "metadata": {
            "tags": []
          },
          "execution_count": 32
        }
      ]
    },
    {
      "cell_type": "code",
      "metadata": {
        "id": "t8pfSL6Qa6J4",
        "colab_type": "code",
        "outputId": "b330aaca-5e84-4a25-ab99-71c16d0c4cc1",
        "colab": {
          "base_uri": "https://localhost:8080/",
          "height": 90
        }
      },
      "source": [
        "pol=SVC(kernel='poly')\n",
        "pol.fit(x_train,y_train)"
      ],
      "execution_count": 0,
      "outputs": [
        {
          "output_type": "execute_result",
          "data": {
            "text/plain": [
              "SVC(C=1.0, break_ties=False, cache_size=200, class_weight=None, coef0=0.0,\n",
              "    decision_function_shape='ovr', degree=3, gamma='scale', kernel='poly',\n",
              "    max_iter=-1, probability=False, random_state=None, shrinking=True,\n",
              "    tol=0.001, verbose=False)"
            ]
          },
          "metadata": {
            "tags": []
          },
          "execution_count": 33
        }
      ]
    },
    {
      "cell_type": "code",
      "metadata": {
        "id": "TQ1R9lA3bPnZ",
        "colab_type": "code",
        "outputId": "aeaac567-dcf9-448f-880f-8d5bcc2f8d4a",
        "colab": {
          "base_uri": "https://localhost:8080/",
          "height": 90
        }
      },
      "source": [
        "y_pred=pol.predict(x_test)\n",
        "count=0\n",
        "for i in range(0,y_pred.shape[0]):\n",
        "  if y_pred[i]==y_test[i]:\n",
        "    count=count+1\n",
        "accuracy=(count/y_pred.shape[0])*100\n",
        "print(accuracy)\n",
        "from sklearn.metrics import confusion_matrix\n",
        "confusion_matrix(y_test,y_pred)"
      ],
      "execution_count": 0,
      "outputs": [
        {
          "output_type": "stream",
          "text": [
            "96.66666666666667\n"
          ],
          "name": "stdout"
        },
        {
          "output_type": "execute_result",
          "data": {
            "text/plain": [
              "array([[20,  0,  0],\n",
              "       [ 0, 15,  1],\n",
              "       [ 0,  1, 23]])"
            ]
          },
          "metadata": {
            "tags": []
          },
          "execution_count": 38
        }
      ]
    },
    {
      "cell_type": "markdown",
      "metadata": {
        "id": "_2jQb_RIcK09",
        "colab_type": "text"
      },
      "source": [
        "\n",
        "\n",
        "5.   Random Forest\n",
        "\n"
      ]
    },
    {
      "cell_type": "code",
      "metadata": {
        "id": "1GNBeT3ybR_i",
        "colab_type": "code",
        "outputId": "64aa4323-0a66-4cd5-accc-dd434488f3fd",
        "colab": {
          "base_uri": "https://localhost:8080/",
          "height": 163
        }
      },
      "source": [
        "from sklearn.ensemble import RandomForestClassifier\n",
        "ran=RandomForestClassifier()\n",
        "ran.fit(x_train,y_train)"
      ],
      "execution_count": 0,
      "outputs": [
        {
          "output_type": "execute_result",
          "data": {
            "text/plain": [
              "RandomForestClassifier(bootstrap=True, ccp_alpha=0.0, class_weight=None,\n",
              "                       criterion='gini', max_depth=None, max_features='auto',\n",
              "                       max_leaf_nodes=None, max_samples=None,\n",
              "                       min_impurity_decrease=0.0, min_impurity_split=None,\n",
              "                       min_samples_leaf=1, min_samples_split=2,\n",
              "                       min_weight_fraction_leaf=0.0, n_estimators=100,\n",
              "                       n_jobs=None, oob_score=False, random_state=None,\n",
              "                       verbose=0, warm_start=False)"
            ]
          },
          "metadata": {
            "tags": []
          },
          "execution_count": 40
        }
      ]
    },
    {
      "cell_type": "code",
      "metadata": {
        "id": "9BZkf-NsfPUY",
        "colab_type": "code",
        "outputId": "b8017a99-238e-486b-d5a5-ec56ee0ea284",
        "colab": {
          "base_uri": "https://localhost:8080/",
          "height": 90
        }
      },
      "source": [
        "y_pred=ran.predict(x_test)\n",
        "count=0\n",
        "for i in range(0,y_pred.shape[0]):\n",
        "  if y_pred[i]==y_test[i]:\n",
        "    count=count+1\n",
        "accuracy=(count/y_pred.shape[0])*100\n",
        "print(accuracy)\n",
        "from sklearn.metrics import confusion_matrix\n",
        "confusion_matrix(y_test,y_pred)"
      ],
      "execution_count": 0,
      "outputs": [
        {
          "output_type": "stream",
          "text": [
            "93.33333333333333\n"
          ],
          "name": "stdout"
        },
        {
          "output_type": "execute_result",
          "data": {
            "text/plain": [
              "array([[20,  0,  0],\n",
              "       [ 0, 15,  1],\n",
              "       [ 0,  3, 21]])"
            ]
          },
          "metadata": {
            "tags": []
          },
          "execution_count": 41
        }
      ]
    },
    {
      "cell_type": "code",
      "metadata": {
        "id": "GTqkD-fefa6H",
        "colab_type": "code",
        "colab": {}
      },
      "source": [
        ""
      ],
      "execution_count": 0,
      "outputs": []
    }
  ]
}